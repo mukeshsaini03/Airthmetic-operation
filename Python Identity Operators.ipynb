{
 "cells": [
  {
   "cell_type": "code",
   "execution_count": 1,
   "metadata": {},
   "outputs": [],
   "source": [
    "##Identity Operator compare the memory  locations of two Object . There are two Identity Operator\n",
    "# is - Evaluates to true if the variable on either side of the operator point to the same object, False otherwise\n",
    "# x is y, here is result in 1 is id(x) equals id(y)\n",
    "\n",
    "#is not- Evaluates to false if the variables on either side of the operator point to the same object and true otherwise.\n",
    "##x is not y, here is not results in 1 if id(x) is not equal to id(y)."
   ]
  },
  {
   "cell_type": "code",
   "execution_count": 5,
   "metadata": {},
   "outputs": [
    {
     "name": "stdout",
     "output_type": "stream",
     "text": [
      "Line 1 - a and b have same identity\n",
      "Line 2 - a and b have same identity\n",
      "Line 3 - a and b do not have same identity\n",
      "Line 4 - a and b do not have same identity\n"
     ]
    }
   ],
   "source": [
    "a = 20\n",
    "b = 20\n",
    "\n",
    "if ( a is b ):\n",
    "    print (\"Line 1 - a and b have same identity\")\n",
    "else:\n",
    "    print (\"Line 1 - a and b do not have same identity\")\n",
    "if ( id(a) == id(b) ):\n",
    "    print (\"Line 2 - a and b have same identity\")\n",
    "else:\n",
    "    print (\"Line 2 - a and b do not have same identity\")\n",
    "b = 30\n",
    "if ( a is b ):\n",
    "    print (\"Line 3 - a and b have same identity\")\n",
    "else:\n",
    "    print (\"Line 3 - a and b do not have same identity\")\n",
    "if ( a is not b ):\n",
    "    print (\"Line 4 - a and b do not have same identity\")\n",
    "else:\n",
    "    print (\"Line 4 - a and b have same identity\")"
   ]
  },
  {
   "cell_type": "code",
   "execution_count": null,
   "metadata": {},
   "outputs": [],
   "source": []
  }
 ],
 "metadata": {
  "kernelspec": {
   "display_name": "Python 3",
   "language": "python",
   "name": "python3"
  },
  "language_info": {
   "codemirror_mode": {
    "name": "ipython",
    "version": 3
   },
   "file_extension": ".py",
   "mimetype": "text/x-python",
   "name": "python",
   "nbconvert_exporter": "python",
   "pygments_lexer": "ipython3",
   "version": "3.8.3"
  }
 },
 "nbformat": 4,
 "nbformat_minor": 4
}

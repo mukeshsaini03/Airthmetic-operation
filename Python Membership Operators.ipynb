{
 "cells": [
  {
   "cell_type": "code",
   "execution_count": 1,
   "metadata": {},
   "outputs": [],
   "source": [
    "##Python Memership Operator test for membership in a sequence  such as string s, lists or tuples.\n",
    "##There are two Membership Operators are there in python\n",
    "\n",
    "# 1. in ---Evaluates to true if it finds  a variable in specified sequence and false otherwise--\n",
    "###Example--- x in y, here in results  in a 1 if x is a member of sequence of y\n",
    "\n",
    "#2. not in --Evaluates  to true if it does not finds a variable  in the specfied sequence .\n",
    "# example x not in y, here  not in results in a 1 if x is not a member  of sequene y"
   ]
  },
  {
   "cell_type": "code",
   "execution_count": 5,
   "metadata": {},
   "outputs": [
    {
     "name": "stdout",
     "output_type": "stream",
     "text": [
      "Line 1 - a is not available in the given list\n",
      "Line 2 - b is not available in the given list\n",
      "Line 3 - a is available in the given list\n"
     ]
    }
   ],
   "source": [
    "a = 10\n",
    "b = 20\n",
    "list = [1, 2, 3, 4, 5 ];\n",
    "\n",
    "if ( a in list ):\n",
    "    print (\"Line 1 - a is available in the given list\")\n",
    "else:\n",
    "    print( \"Line 1 - a is not available in the given list\")\n",
    "if ( b not in list ):\n",
    "    print (\"Line 2 - b is not available in the given list\")\n",
    "else:\n",
    "    print (\"Line 2 - b is available in the given list\")\n",
    "a = 2\n",
    "if ( a in list ):\n",
    "    print (\"Line 3 - a is available in the given list\")\n",
    "else:\n",
    "    print (\"Line 3 - a is not available in the given list\")"
   ]
  },
  {
   "cell_type": "code",
   "execution_count": null,
   "metadata": {},
   "outputs": [],
   "source": []
  }
 ],
 "metadata": {
  "kernelspec": {
   "display_name": "Python 3",
   "language": "python",
   "name": "python3"
  },
  "language_info": {
   "codemirror_mode": {
    "name": "ipython",
    "version": 3
   },
   "file_extension": ".py",
   "mimetype": "text/x-python",
   "name": "python",
   "nbconvert_exporter": "python",
   "pygments_lexer": "ipython3",
   "version": "3.8.3"
  }
 },
 "nbformat": 4,
 "nbformat_minor": 4
}

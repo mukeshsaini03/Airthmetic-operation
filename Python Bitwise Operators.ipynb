{
 "cells": [
  {
   "cell_type": "code",
   "execution_count": 2,
   "metadata": {},
   "outputs": [],
   "source": [
    "##Bitwise Operator works on bits and perform bit by bit Operation.\n",
    "#Assume if a=60 and b=13, now in the binay format  their values will be 0011 1100 and 0000 1101 respectivly.\n",
    "##Folllowing table lists out the bitwise operator supported by python \n",
    "\n",
    "# & (AND)-Operator copies a bit to the result if it exist in both Operand-- (a & b ) (means 0000 1100)\n",
    "# |(OR)-Operator copies a bit in either Operand (a|b)=61(means(0011 1101))\n",
    "# ^ (XoR)- It copies the bit if it in set in one operand but not both (a^b)=49 (means 0011 0001)\n",
    "# ~(Ones Complement)-it is unary and has the effect of flipping bits (~a)=-61(means 1100 0011 in 2's complement form due to a signed binary number)\n",
    "# << (left Shift)-The left OPerand value is moved left by the number of bits specified by the right Operand a<<2=240(means 1111 0000)\n",
    "# >> (Right Shift)- The left Operand value is moved right by the number of bits soecfified by the right Operand a>>2=15(means 0000 1111)\n"
   ]
  },
  {
   "cell_type": "code",
   "execution_count": 3,
   "metadata": {},
   "outputs": [],
   "source": [
    "###Example of AND & Operator\n",
    "a=10\n",
    "b=20"
   ]
  },
  {
   "cell_type": "code",
   "execution_count": 4,
   "metadata": {},
   "outputs": [
    {
     "data": {
      "text/plain": [
       "0"
      ]
     },
     "execution_count": 4,
     "metadata": {},
     "output_type": "execute_result"
    }
   ],
   "source": [
    "(a & b)"
   ]
  },
  {
   "cell_type": "code",
   "execution_count": 6,
   "metadata": {},
   "outputs": [],
   "source": [
    "a=1010\n",
    "b=100"
   ]
  },
  {
   "cell_type": "code",
   "execution_count": 7,
   "metadata": {},
   "outputs": [
    {
     "data": {
      "text/plain": [
       "96"
      ]
     },
     "execution_count": 7,
     "metadata": {},
     "output_type": "execute_result"
    }
   ],
   "source": [
    "a&b"
   ]
  },
  {
   "cell_type": "code",
   "execution_count": 8,
   "metadata": {},
   "outputs": [],
   "source": [
    "###And & Operator- It return 1 if both sides bits are 1 , else it will return 0"
   ]
  },
  {
   "cell_type": "code",
   "execution_count": 9,
   "metadata": {},
   "outputs": [],
   "source": [
    "###OR |- It will retuen 1 either of the side bit is 1 , else 0"
   ]
  },
  {
   "cell_type": "code",
   "execution_count": 10,
   "metadata": {},
   "outputs": [],
   "source": [
    "###BitWise not Operator ~, Return 1s complement of the number"
   ]
  },
  {
   "cell_type": "code",
   "execution_count": 11,
   "metadata": {},
   "outputs": [],
   "source": [
    "###XOR Bitwise- It will Return 1 if one of the bit is 1 and other is 0 else reqtuen False"
   ]
  },
  {
   "cell_type": "code",
   "execution_count": 12,
   "metadata": {},
   "outputs": [],
   "source": [
    "## Python program to show \n",
    "# bitwise operators \n",
    "  "
   ]
  },
  {
   "cell_type": "code",
   "execution_count": 21,
   "metadata": {},
   "outputs": [],
   "source": [
    "a=4\n",
    "b=5"
   ]
  },
  {
   "cell_type": "code",
   "execution_count": 22,
   "metadata": {},
   "outputs": [
    {
     "name": "stdout",
     "output_type": "stream",
     "text": [
      "a & b= 4\n",
      "a | b= 5\n",
      "~a= -5\n",
      "a ^ b= 1\n"
     ]
    }
   ],
   "source": [
    "#Printbitwise AND Operation\n",
    "print('a & b=', a&b)\n",
    "#Print Bitwise OR Operatin\n",
    "print('a | b=', a | b)\n",
    "#Print bitwise NOT Operation\n",
    "print(\"~a=\",~a)\n",
    "#Print bitwise XOR Operation\n",
    "print('a ^ b=', a^b)\n",
    "\n"
   ]
  },
  {
   "cell_type": "code",
   "execution_count": null,
   "metadata": {},
   "outputs": [],
   "source": []
  }
 ],
 "metadata": {
  "kernelspec": {
   "display_name": "Python 3",
   "language": "python",
   "name": "python3"
  },
  "language_info": {
   "codemirror_mode": {
    "name": "ipython",
    "version": 3
   },
   "file_extension": ".py",
   "mimetype": "text/x-python",
   "name": "python",
   "nbconvert_exporter": "python",
   "pygments_lexer": "ipython3",
   "version": "3.8.3"
  }
 },
 "nbformat": 4,
 "nbformat_minor": 4
}
